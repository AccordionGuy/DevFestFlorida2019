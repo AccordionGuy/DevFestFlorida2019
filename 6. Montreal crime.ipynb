{
 "cells": [
  {
   "cell_type": "markdown",
   "metadata": {},
   "source": [
    "# Montreal crime data analysis and visualization\n",
    "![Downtown Montreal](./images/montreal.jpg)\n",
    "\n",
    "Compared to most other North American cities, Montreal is a safe place. The odds of you being a homicide victim there are [literally one in a million](https://www.cbc.ca/news/canada/montreal/what-3-years-of-detailed-crime-data-tells-us-about-how-safe-a-city-montreal-is-1.4627438) (compared to [Tampa, where the odds are 80 times higher](http://www.city-data.com/crime/crime-Tampa-Florida.html), or [Orlando, where it’s 300 times higher](http://www.city-data.com/crime/crime-Orlando-Florida.html)).\n",
    "\n",
    "Over the past couple of years, the Montreal police have been publishing details on certain crimes committed there. We’re going to use that data to generate an interactive crime map."
   ]
  },
  {
   "cell_type": "markdown",
   "metadata": {},
   "source": [
    "## Import packages and define utility functions\n",
    "![Setup](./images/montreal-setup.jpg)"
   ]
  },
  {
   "cell_type": "code",
   "execution_count": null,
   "metadata": {},
   "outputs": [],
   "source": [
    "# Import packages\n",
    "# ===============\n",
    "import pandas as pd\n",
    "import numpy as np\n",
    "import folium\n",
    "from folium import plugins\n",
    "from IPython.display import display_html, HTML\n",
    "from geopy.geocoders import Nominatim\n",
    "import json\n",
    "import plotly\n",
    "from plotly import tools\n",
    "import plotly.graph_objs as go\n",
    "from plotly.offline import init_notebook_mode, iplot\n",
    "from dateutil.parser import parse\n",
    "import calendar\n",
    "\n",
    "\n",
    "# Constants\n",
    "# =========\n",
    "# Define chart marker colors\n",
    "markercol = ['rgba(31, 119, 180, 0.5)', 'rgba(255, 127, 14, 0.5)',\n",
    "             'rgba(50, 171, 96, 0.5)', 'rgba(214, 39, 40, 0.5)',\n",
    "            'rgba(148, 103, 189, 0.5)', 'rgba(140, 86, 75, 0.5)']\n",
    "linecol = ['rgba(31, 119, 180, 1.0)', 'rgba(255, 127, 14, 1.0)',\n",
    "            'rgba(50, 171, 96, 1.0)', 'rgba(214, 39, 40, 1.0)',\n",
    "            'rgba(148, 103, 189, 1.0)', 'rgba(140, 86, 75, 1.0)']\n",
    "\n",
    "\n",
    "# Settings\n",
    "# ========\n",
    "init_notebook_mode(connected=True)\n",
    "pd.set_option('display.max_colwidth', 130)\n",
    "\n",
    "\n",
    "# Map functions\n",
    "# =============\n",
    "def map_data(mappings, x):\n",
    "    '''a function to map columns descriptions in French to English'''\n",
    "    for i, j in mappings:\n",
    "        if i == x:\n",
    "            return j\n",
    "\n",
    "def embed_map(map):\n",
    "    '''a function to embed map in notebook '''\n",
    "    map.save(outfile=\"map.html\")\n",
    "    return HTML('<iframe src=\"{i}\" style=\"width: 100%; height: 510px; border: none\"></iframe>'.format(i=\"map.html\"))\n",
    "\n",
    "def generate_map(df, yr):\n",
    "    '''a function for creating an interactive map'''\n",
    "\n",
    "    # exclude null location values\n",
    "    ref = df[(df['YEAR'] == yr) & (df['COORDS'] != (1.0, 1.0))].copy()\n",
    "\n",
    "    # create base map\n",
    "    crimemap = folium.Map(location=[ref['LAT'].mean(), ref['LON'].mean()], zoom_start=11)\n",
    "\n",
    "    # create an instance of marker cluster for crimes in the dataset\n",
    "    crimes = plugins.MarkerCluster().add_to(crimemap)\n",
    "\n",
    "    # loop through the dataset and add each crime point to the marker cluster\n",
    "    for lat, lon, category in zip(ref['LAT'], ref['LON'], ref['ADAPTED_CATEGORY']):\n",
    "        folium.Marker(location=[lat, lon], icon=None, popup=category).add_to(crimes)\n",
    "        \n",
    "    return embed_map(crimemap)\n",
    "\n",
    "\n",
    "# Reverse geocoding\n",
    "# =================\n",
    "# Reverse geocoding is the process of back (reverse) coding of \n",
    "# a point location (latitude, longitude) to a readable address\n",
    "# or place name. This permits the identification of nearby \n",
    "# street addresses, places, and/or areal subdivisions such as \n",
    "# neighbourhoods, county, state, or country.\n",
    "def extract_address(col):\n",
    "    '''a function to extract addresses from latitudes and longitudes'''\n",
    "    coord = list(col)\n",
    "    slist = []\n",
    "    geolocator = Nominatim()\n",
    "    for i in coord:\n",
    "        jlist = []\n",
    "        location = geolocator.reverse(i, timeout=10)\n",
    "\n",
    "        # write results as json strings\n",
    "        json_string = json.dumps(location.raw)\n",
    "\n",
    "        # convert json to dict\n",
    "        dat = json.loads(json_string)\n",
    "\n",
    "        # extract neighborhood address\n",
    "        for j in dat['address'].keys():\n",
    "            if j not in ['house_number', 'city', 'region', 'state', 'postcode','country', 'country_code']:\n",
    "                jlist.append(dat['address'][j])\n",
    "        locstr = \", \".join(jlist)\n",
    "        slist.append(locstr)\n",
    "    return slist\n",
    "\n",
    "\n",
    "# Plotting\n",
    "# ========\n",
    "def plotchart(chdata, chlayout, titlelist, yearlist, subtitlelist):\n",
    "    '''a function to plot a chart with 1 row and 3 columns figure'''\n",
    "\n",
    "    # define subplots\n",
    "    fig = tools.make_subplots(rows=1, cols=3,\n",
    "        subplot_titles=([\"<b>{}</b>\".format(i) for i in subtitlelist]), \n",
    "        shared_yaxes=True,horizontal_spacing=(0.05),print_grid=False)\n",
    "\n",
    "    # an empty list to hold chart data definitions for each plot\n",
    "    trace_list = []    \n",
    "    for i in range(3):\n",
    "        data = chdata['trace_data'][chdata['trace_data']['YEAR'] == yearlist[i]]\n",
    "        tracex = go.Bar(x=data[chdata['x']], y=data[chdata['y']], name=titlelist[i], width=0.7,\n",
    "            text=data[chdata['y']], textposition='outside', hoverinfo='text',\n",
    "            outsidetextfont=dict(size='10'), cliponaxis=False,\n",
    "            marker=dict(color=markercol[:3][i], line=dict(color=linecol[:3][i], width=1)))\n",
    "        trace_list.append(tracex)\n",
    "\n",
    "        # define each subplot order of selection\n",
    "        m = np.array([1, 1, 1, 2, 1, 3]).reshape(3, 2)\n",
    "\n",
    "        # append each subplot data definitions to the figure instance\n",
    "        fig.append_trace(trace_list[i], m[i][0], m[i][1])\n",
    "\n",
    "    # define layout settings\n",
    "    for i in fig['layout']['annotations']:\n",
    "        i['font'] = dict(size=12)\n",
    "\n",
    "    for i in range(1, 4):\n",
    "        fig['layout']['yaxis' + '{}'.format(i)].update(title=chlayout['yaxistitle'],\n",
    "            titlefont=dict(size=12, color='rgb(107, 107, 107)'), showticklabels=False, showgrid=True)\n",
    "\n",
    "        fig['layout']['xaxis' + '{}'.format(i)].update(titlefont=dict(size=11, color='rgb(107, 107, 107)'),\n",
    "            tickfont=dict(size=11, color='rgb(107, 107, 107)'), tickangle=chlayout['tickangle'])\n",
    "\n",
    "    # update layout settings\n",
    "    fig['layout'].update(height=chlayout['height'], width=chlayout['width'], showlegend=False,\n",
    "        autosize=False, title=chlayout['title'], titlefont=dict(size=14),\n",
    "        paper_bgcolor='rgba(245, 246, 249, 1)', plot_bgcolor='rgba(245, 246, 249, 1)')\n",
    "\n",
    "    return iplot(fig)"
   ]
  },
  {
   "cell_type": "markdown",
   "metadata": {},
   "source": [
    "## Getting data from the source\n",
    "![Data](./images/montreal-data.jpg)\n",
    "\n",
    "We’ll use a dataset of crimes committed in the city of Montreal from 2015 through part of 2018. It comes from Montreal’s police department, [and you can download it from the Montreal Open Data Portal](http://donnees.ville.montreal.qc.ca/dataset/actes-criminels) in .csv format.\n",
    "\n",
    "Let’s read in the dataset and print out the first few rows."
   ]
  },
  {
   "cell_type": "code",
   "execution_count": null,
   "metadata": {},
   "outputs": [],
   "source": [
    "CSV_FILE_LOCATION = './data/interventionscitoyendo.csv'\n",
    "#CSV_FILE_LOCATION = 'https://raw.githubusercontent.com/AccordionGuy/DevFestFlorida2019/master/data/interventionscitoyendo.csv'\n",
    "\n",
    "df = pd.read_csv(CSV_FILE_LOCATION, encoding='latin1')\n",
    "df.head()"
   ]
  },
  {
   "cell_type": "markdown",
   "metadata": {},
   "source": [
    "## Column descriptions\n",
    "Keep in mind that this data comes from the _Montreal_ police department, so the it’s in French.\n",
    "\n",
    "Here’s a quick rundown of the columns:\n",
    "* **CATEGORIE:** Category, which will contain one of the following values:\n",
    "    * ***Introduction:*** Breaking and entering a public institution or private residence, theft of a firearm in a residence.\n",
    "    * ***Vol dans / sur véhicule à moteur:*** Theft of a motor vehicle (car, truck, motorcycle, etc.) contents or a vehicle part (wheel, bumper, etc.).\n",
    "    * ***Vol de véhicule à moteur:*** Theft of a car, truck, motorcycle, snowmobile tractor with or without a trailer, construction or farm vehicle, all-terrain vehicle.\n",
    "    * ***Méfait:*** Graffiti and damage to religious property, vehicle or general damage and all other types of mischief.\n",
    "    * ***Vol qualifié:*** Robbery accompanied by commercial violence, financial institution, person, purse, armored vehicle, vehicle, firearm, and all other types of robbery.\n",
    "    * ***Infraction entraînant la mort:*** First-degree murder, second-degree murder, manslaughter, infanticide, criminal negligence, and all other types of offenses resulting in death.\n",
    "* **DATE:** Date of the report of the event to the police.\n",
    "* **QUART:** The time of the day the event was reported to the police.\n",
    "* **PDQ:** Number of the neighborhood station covering the territory where the event took place. For example, the neighborhood station 50 corresponds to the unit in charge of the metro.\n",
    "* **X**, **Y:** Geospatial position according to MTM8 projection (SRID 2950). The value 0 is used when no geographical position was provided when entering the information.\n",
    "* **LAT** and **LONG:** Geographical position of the event after obfuscation at an intersection according to the WGS84 geodesic datum. The value 1 is used when no geographical position has been provided when entering the information."
   ]
  },
  {
   "cell_type": "markdown",
   "metadata": {},
   "source": [
    "## How many crimes are in this dataset?"
   ]
  },
  {
   "cell_type": "code",
   "execution_count": null,
   "metadata": {},
   "outputs": [],
   "source": [
    "# Display the number of records in the dataset.\n",
    "print('The dataset contains {0} rows and {1} columns.'.format(df.shape[0], df.shape[1]))"
   ]
  },
  {
   "cell_type": "markdown",
   "metadata": {},
   "source": [
    "## What are the dataframe’s columns’ data types? Are there any missing values in the dataframe?"
   ]
  },
  {
   "cell_type": "code",
   "execution_count": null,
   "metadata": {},
   "outputs": [],
   "source": [
    "# check for missing values and data types of the columns\n",
    "df.info()"
   ]
  },
  {
   "cell_type": "markdown",
   "metadata": {},
   "source": [
    "## I don’t speak French very well. Can we translate this to English?\n",
    "![Parlez-vous Francais?](./images/montreal-francais.jpg)\n",
    "\n",
    "Let’s create some mappings to translate the French phrases to English."
   ]
  },
  {
   "cell_type": "code",
   "execution_count": null,
   "metadata": {},
   "outputs": [],
   "source": [
    "# Translate from French to English\n",
    "# ================================\n",
    "\n",
    "# Change the crime categories from French to English.\n",
    "crime_mappings = list(zip([\n",
    "        'Introduction', 'Vol dans / sur véhicule à moteur',\n",
    "        'Vol de véhicule à moteur', 'Méfait', 'Vols qualifiés',\n",
    "        'Infractions entrainant la mort'\n",
    "    ], [\n",
    "        'Burglary', 'Vehicle contents or parts theft', 'Vehicle theft',\n",
    "        'Misdemeanor', 'Robbery', 'Offenses causing death'\n",
    "    ]))\n",
    "\n",
    "# Change the terms for various times of day from French to English.\n",
    "day_mappings = list(zip(['jour', 'soir', 'nuit'], ['day', 'evening', 'night']))\n",
    "\n",
    "# Create a new column, ADAPTED_CATEGORY, for crime descriptions translated into English.\n",
    "df['ADAPTED_CATEGORY'] = df['CATEGORIE'].apply(\n",
    "    lambda x: map_data(crime_mappings, x))\n",
    "\n",
    "# Modify QUART column.\n",
    "df['QUART'] = df['QUART'].apply(lambda x: map_data(day_mappings, x))"
   ]
  },
  {
   "cell_type": "markdown",
   "metadata": {},
   "source": [
    "## Let’s use the DATE column to create two new columns, MONTH and YEAR"
   ]
  },
  {
   "cell_type": "code",
   "execution_count": null,
   "metadata": {},
   "outputs": [],
   "source": [
    "# Turn date field from object to date data type.\n",
    "df['DATE'] = df['DATE'].apply(lambda x: parse(x))\n",
    "\n",
    "# Define a new column 'YEAR',\n",
    "df['YEAR'] = df['DATE'].apply(lambda x: x.year).astype(str)\n",
    "\n",
    "# Define a new column 'MONTH'.\n",
    "df['MONTH'] = df['DATE'].apply(lambda x: x.month)"
   ]
  },
  {
   "cell_type": "markdown",
   "metadata": {},
   "source": [
    "## Let’s make a couple of column changes"
   ]
  },
  {
   "cell_type": "code",
   "execution_count": null,
   "metadata": {},
   "outputs": [],
   "source": [
    "# Modify 'PDQ' column.\n",
    "df['PDQ'] = df['PDQ'].apply(lambda x: 'PDQ '+ str(x))\n",
    "\n",
    "# Drop X and Y columns.\n",
    "df.drop(['X', 'Y'], axis=1, inplace=True)"
   ]
  },
  {
   "cell_type": "markdown",
   "metadata": {},
   "source": [
    "## Let’s limit the data to crimes from 2015 through 2017"
   ]
  },
  {
   "cell_type": "code",
   "execution_count": null,
   "metadata": {},
   "outputs": [],
   "source": [
    "# Extract only '2015 - 2017' records from the dataset.\n",
    "xdf = df[df['YEAR'] != '2018'].copy()"
   ]
  },
  {
   "cell_type": "markdown",
   "metadata": {},
   "source": [
    "### Just a little more column stuff..."
   ]
  },
  {
   "cell_type": "code",
   "execution_count": null,
   "metadata": {},
   "outputs": [],
   "source": [
    "# chain latitudes and longitudes together as a new column\n",
    "xdf['COORDS'] = list(zip(xdf['LAT'], xdf['LONG']))\n",
    "\n",
    "# summarize data\n",
    "aggcrime = xdf.groupby(['COORDS', 'ADAPTED_CATEGORY', 'YEAR']).agg({'ADAPTED_CATEGORY':'count'}).rename(columns={'ADAPTED_CATEGORY': 'COUNT'}).reset_index()\n",
    "\n",
    "# split 'COORDS' into two columns\n",
    "aggcrime['LAT'] = aggcrime['COORDS'].apply(lambda x: str(x).split(\",\")[0].replace(\"(\", \"\")).astype(float)\n",
    "aggcrime['LON'] = aggcrime['COORDS'].apply(lambda x: str(x).split(\",\")[1].replace(\")\", \"\")).astype(float)"
   ]
  },
  {
   "cell_type": "markdown",
   "metadata": {},
   "source": [
    "## What does the dataframe look like now?"
   ]
  },
  {
   "cell_type": "code",
   "execution_count": null,
   "metadata": {},
   "outputs": [],
   "source": [
    "aggcrime.head()"
   ]
  },
  {
   "cell_type": "markdown",
   "metadata": {},
   "source": [
    "## All right, let’s go map some crime!\n",
    "With the map data formatted and map generation routines defined, we can create an interactive map.\n",
    "\n",
    "* Use the **+** and **-** buttons or scroll up or down to zoom.\n",
    "* The numbers represent the aggregate number of crimes in the area. Click on them to zoom into that area.\n",
    "* The blue map markers represent individual crimes. Click on them to display the type of crime."
   ]
  },
  {
   "cell_type": "code",
   "execution_count": null,
   "metadata": {
    "scrolled": true
   },
   "outputs": [],
   "source": [
    "# a crime map of 2015 is shown here. Maps of 2016 and 2017 can be displayed by changing the year value accordingly.\n",
    "generate_map(aggcrime, '2015')"
   ]
  },
  {
   "cell_type": "markdown",
   "metadata": {},
   "source": [
    "![Works on my machine!](./images/montreal-works_on_my_machine.png)"
   ]
  },
  {
   "cell_type": "markdown",
   "metadata": {},
   "source": [
    "## Sources\n",
    "Go check out the original on GitHub at [dimtics/Montreal-City-Crime-Data-Analysis.](https://github.com/dimtics/Montreal-City-Crime-Data-Analysis)"
   ]
  }
 ],
 "metadata": {
  "kernelspec": {
   "display_name": "Python 3",
   "language": "python",
   "name": "python3"
  },
  "language_info": {
   "codemirror_mode": {
    "name": "ipython",
    "version": 3
   },
   "file_extension": ".py",
   "mimetype": "text/x-python",
   "name": "python",
   "nbconvert_exporter": "python",
   "pygments_lexer": "ipython3",
   "version": "3.6.7"
  }
 },
 "nbformat": 4,
 "nbformat_minor": 2
}
