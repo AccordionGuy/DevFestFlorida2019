{
 "cells": [
  {
   "cell_type": "markdown",
   "metadata": {},
   "source": [
    "![Going forward](./images/outro-going_forward.png)"
   ]
  },
  {
   "cell_type": "markdown",
   "metadata": {},
   "source": [
    "## Worth watching\n",
    "![I don't like notebooks](./images/outro-joel_grus_doesnt_like_notebooks.png)\n",
    "\n",
    "HTML('<iframe width=\"560\" height=\"315\" src=\"https://www.youtube.com/embed/7jiPeIFXb6U\" frameborder=\"0\" allow=\"accelerometer; autoplay; encrypted-media; gyroscope; picture-in-picture\" allowfullscreen></iframe>')\n",
    "\n",
    "1. Hidden state and out-of-order execution\n",
    "2. Notebooks are difficult for beginners\n",
    "3. Notebooks encourage bad habits\n",
    "4. Notebooks discourage modularity and testing\n",
    "5. Jupyter’s autocomplete, linting, and way of looking up the help are awkward\n",
    "6. Notebooks encourage bad processes\n",
    "7. Notebooks hinder reproducible + extensible science\n",
    "8. Notebooks make it hard to copy and paste into Slack/Github issues\n",
    "9. Errors will always halt execution\n",
    "10. Notebooks make it easy to teach poorly\n",
    "11. Notebooks make it hard to teach well"
   ]
  },
  {
   "cell_type": "code",
   "execution_count": 2,
   "metadata": {},
   "outputs": [
    {
     "data": {
      "text/html": [
       "\n",
       "        <iframe\n",
       "            width=\"600\"\n",
       "            height=\"338\"\n",
       "            src=\"https://www.youtube.com/embed/7jiPeIFXb6U\"\n",
       "            frameborder=\"0\"\n",
       "            allowfullscreen\n",
       "        ></iframe>\n",
       "        "
      ],
      "text/plain": [
       "<IPython.lib.display.IFrame at 0x105ce2128>"
      ]
     },
     "metadata": {},
     "output_type": "display_data"
    }
   ],
   "source": [
    "from IPython.display import IFrame\n",
    "\n",
    "display(IFrame(src=\"https://www.youtube.com/embed/7jiPeIFXb6U\", width=600, height=338)) "
   ]
  },
  {
   "cell_type": "code",
   "execution_count": null,
   "metadata": {},
   "outputs": [],
   "source": []
  }
 ],
 "metadata": {
  "kernelspec": {
   "display_name": "Python 3",
   "language": "python",
   "name": "python3"
  },
  "language_info": {
   "codemirror_mode": {
    "name": "ipython",
    "version": 3
   },
   "file_extension": ".py",
   "mimetype": "text/x-python",
   "name": "python",
   "nbconvert_exporter": "python",
   "pygments_lexer": "ipython3",
   "version": "3.6.7"
  }
 },
 "nbformat": 4,
 "nbformat_minor": 2
}
