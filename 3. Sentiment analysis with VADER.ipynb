{
 "cells": [
  {
   "cell_type": "markdown",
   "metadata": {},
   "source": [
    "### Sentiment analysis with VADER\n",
    "![VADER](./images/vader.jpg)"
   ]
  },
  {
   "cell_type": "markdown",
   "metadata": {},
   "source": [
    "# What is VADER?\n",
    "**[VADER](https://github.com/cjhutto/vaderSentiment)** is short for Valence Aware Dictionary and sEntiment Reasoner. It’s a lexicon and rule-based sentiment analysis tool that is *specifically attuned to sentiments expressed in social media.* VADER is particularly good at getting the general “vibe” of text that confuses other sentiment analysis tools, since it’s good at figuring out things such as:\n",
    "\n",
    "* typical negations, such as **not good**\n",
    "* use of contractions as negations, such as **wasn't very good**\n",
    "* conventional use of punctuation to signal increased sentiment intensity, such as **Good!!!**\n",
    "* conventional use of word-shape to signal emphasis, such as using **ALL CAPS** for words and phrases\n",
    "* using degree modifiers to alter sentiment intensity, including intensity boosters such as **very** and intensity dampeners and mitigating phrases, such as **kind of**\n",
    "* understanding many sentiment-laden slang words, such as **sux**\n",
    "* understanding many sentiment-laden slang words as modifiers, such as **uber** or **friggin** or **kinda**\n",
    "* understanding many sentiment-laden emoticons, such as **:)** and **:D**\n",
    "* translating utf-8 encoded emojis such as 💘 and 💋 and 😁\n",
    "* understanding sentiment-laden initialisms and acronyms, such as **LOL** and **WTF**"
   ]
  },
  {
   "cell_type": "markdown",
   "metadata": {},
   "source": [
    "# What does VADER’s output look like?\n",
    "VADER’s output is a dictionary with the following keys:\n",
    "\n",
    "| Key| Value |\n",
    "| ---| ---       \n",
    "| **'compound'**  | Normalized, weighted composite of negative, neutral, and positive sentiment scores, from -1.0 (most negative) to +1.0 (most positive).\n",
    "| **'neg'**       | Negative sentiment, on a scale of 0.0 to 1.0.\n",
    "| **'neu'**       | Neutral sentiment, on a scale of 0.0 to 1.0.\n",
    "| **'pos'**       | Positive, on a scale of 0.0 to 1.0.\n"
   ]
  },
  {
   "cell_type": "markdown",
   "metadata": {},
   "source": [
    "# Setup\n",
    "![Vader setup](./images/vader-setup.jpg)\n",
    "\n",
    "The key class that VADER provides is `SentimentIntensityAnalyzer`, which in turn provides a key method, `polarity_scores()`, which takes a string to be analyzed for sentiment.\n",
    "\n",
    "In most cases, you’ll want to pass sentences to `polarity_scores()`. Single words or short phrases will provide too little context, and whole paragraphs will often provide too much.\n",
    "\n",
    "First, let’s make sure that VADER’s package, **vaderSentiment**, is installed:"
   ]
  },
  {
   "cell_type": "code",
   "execution_count": null,
   "metadata": {},
   "outputs": [],
   "source": [
    "!pip install vaderSentiment"
   ]
  },
  {
   "cell_type": "markdown",
   "metadata": {},
   "source": [
    "Now that **vaderSentiment** has been installed, let’s...\n",
    "\n",
    "* Import VADER\n",
    "* Create an instance of `SentimentIntensityAnalyzer`\n",
    "* Define a convenience method, `analyze_sentences()`, which accepts a list of sentences, and prints out each sentence with its sentiment analysis."
   ]
  },
  {
   "cell_type": "code",
   "execution_count": null,
   "metadata": {},
   "outputs": [],
   "source": [
    "from vaderSentiment.vaderSentiment import SentimentIntensityAnalyzer\n",
    "\n",
    "analyzer = SentimentIntensityAnalyzer()\n",
    "\n",
    "def analyze_sentences(sentences):\n",
    "    for sentence in sentences:\n",
    "        vs = analyzer.polarity_scores(sentence)\n",
    "        print(f\"{sentence}\\n{str(vs)}\\n\")"
   ]
  },
  {
   "cell_type": "markdown",
   "metadata": {},
   "source": [
    "# Positive sentiment\n",
    "![I’m smiling. Can you tell?](./images/vader-smiling.jpg)\n",
    "\n",
    "Let’s run `analyze_sentences()` on a list of positive sentences..."
   ]
  },
  {
   "cell_type": "code",
   "execution_count": null,
   "metadata": {},
   "outputs": [],
   "source": [
    "positive_sentences = [\n",
    "    \"VADER is smart, handsome, and funny.\",  # positive sentence example\n",
    "    \"VADER is smart, handsome, and funny!\",  # punctuation emphasis handled correctly (sentiment intensity adjusted)\n",
    "    \"VADER is very smart, handsome, and funny.\", # booster words handled correctly (sentiment intensity adjusted)\n",
    "    \"VADER is VERY SMART, handsome, and FUNNY.\",  # emphasis for ALLCAPS handled\n",
    "    \"VADER is VERY SMART, handsome, and FUNNY!!!\", # combination of signals - VADER appropriately adjusts intensity\n",
    "    \"VADER is VERY SMART, uber handsome, and FRIGGIN FUNNY!!!\", # booster words & punctuation make this close to ceiling for score\n",
    "    \"VADER LOL\", # Netspeak!\n",
    "    \"VADER ROFL\", # Netspeak!\n",
    "    \"VADER 😍\", # Long-standing emoji\n",
    "    \"🤩 VADER\", # Newer emoji\n",
    "]\n",
    "analyze_sentences(positive_sentences)"
   ]
  },
  {
   "cell_type": "markdown",
   "metadata": {},
   "source": [
    "# Negative sentiment\n",
    "![Vader in flames](./images/vader-flames.jpg)\n",
    "\n",
    "Fear leads to anger. Anger leads to hate. Hate leads to `analyze_sentences()`!"
   ]
  },
  {
   "cell_type": "code",
   "execution_count": null,
   "metadata": {},
   "outputs": [],
   "source": [
    "negative_sentences = [\n",
    "    \"VADER is stupid, ugly, and not funny.\",  # negative sentence example\n",
    "    \"VADER is stupid, ugly, and not funny!\",  # punctuation emphasis handled correctly (sentiment intensity adjusted)\n",
    "    \"VADER is very stupid, ugly, and not funny.\", # booster words handled correctly (sentiment intensity adjusted)\n",
    "    \"VADER is VERY STUPID, ugly, and NOT FUNNY.\",  # emphasis for ALLCAPS handled\n",
    "    \"VADER is VERY STUPID, ugly, and NOT FUNNY!!!\", # combination of signals - VADER appropriately adjusts intensity\n",
    "    \"VADER is VERY STUPID, uber ugly, and NOT FRIGGIN FUNNY!!!\", # booster words & punctuation make this close to ceiling for score\n",
    "    \"VADER SUX!\",  # negative slang with capitalization emphasis\n",
    "    \"WTF VADER\", # Netspeak!\n",
    "    \"VADER 😠\", # Long-standing emoji\n",
    "    \"🖕 VADER\", # Newer emoji\n",
    "]\n",
    "analyze_sentences(negative_sentences)"
   ]
  },
  {
   "cell_type": "markdown",
   "metadata": {},
   "source": [
    "# Let’s mix things up\n",
    "![Pink Vader](./images/vader-pink.jpg)\n",
    "\n",
    "Let’s try some more complex sentences..."
   ]
  },
  {
   "cell_type": "code",
   "execution_count": null,
   "metadata": {},
   "outputs": [],
   "source": [
    "other_sentences = [\n",
    "    \"The book was good.\",  # positive sentence\n",
    "    \"At least it isn't a horrible book.\",  # negated negative sentence with contraction\n",
    "    \"The book was only kind of good.\", # qualified positive sentence is handled correctly (intensity adjusted)\n",
    "    \"The plot was good, but the characters are uncompelling and the dialog is not great.\", # mixed negation sentence\n",
    "    \"The plot was decent, the characters were somewhat compelling and the dialog is not great.\", # mixed negation sentence\n",
    "    \"Today only kinda sux! But I'll get by, lol\", # mixed sentiment example with slang and constrastive conjunction \"but\"\n",
    "    \"Make sure you :) or :D today!\",  # emoticons handled\n",
    "    \"OMFG I 💘 My Little Pony 💋 and unicorns 😁!!!\",  # oh geez kill me now\n",
    "    \"Venom was a mess of a movie, but I still enjoyed it for some reason.\" # Really, I had more fun than I thought I would\n",
    "]\n",
    "analyze_sentences(other_sentences)"
   ]
  },
  {
   "cell_type": "code",
   "execution_count": null,
   "metadata": {},
   "outputs": [],
   "source": []
  }
 ],
 "metadata": {
  "kernelspec": {
   "display_name": "Python 3",
   "language": "python",
   "name": "python3"
  },
  "language_info": {
   "codemirror_mode": {
    "name": "ipython",
    "version": 3
   },
   "file_extension": ".py",
   "mimetype": "text/x-python",
   "name": "python",
   "nbconvert_exporter": "python",
   "pygments_lexer": "ipython3",
   "version": "3.6.7"
  }
 },
 "nbformat": 4,
 "nbformat_minor": 2
}
