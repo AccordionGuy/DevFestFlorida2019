{
 "cells": [
  {
   "cell_type": "markdown",
   "metadata": {},
   "source": [
    "![Widgets](./images/widgets.png)"
   ]
  },
  {
   "cell_type": "code",
   "execution_count": null,
   "metadata": {},
   "outputs": [],
   "source": [
    "from ipywidgets import widgets"
   ]
  },
  {
   "cell_type": "markdown",
   "metadata": {},
   "source": [
    "## Text field"
   ]
  },
  {
   "cell_type": "code",
   "execution_count": null,
   "metadata": {},
   "outputs": [],
   "source": [
    "from IPython.display import display\n",
    "\n",
    "# Draw a text field.\n",
    "my_text_field = widgets.Text()\n",
    "display(my_text_field)\n",
    "\n",
    "# Respond to the user pressing the “Enter” key\n",
    "# while the text field has the focus.\n",
    "def echo_text_field_contents(sender):\n",
    "    print(my_text_field.value)\n",
    "    \n",
    "my_text_field.on_submit(echo_text_field_contents)"
   ]
  },
  {
   "cell_type": "markdown",
   "metadata": {},
   "source": [
    "## Button"
   ]
  },
  {
   "cell_type": "code",
   "execution_count": null,
   "metadata": {},
   "outputs": [],
   "source": [
    "# Draw a button with the text “Click me!”\n",
    "my_button = widgets.Button(description = \"Click me!\")\n",
    "display(my_button)\n",
    "\n",
    "def respond_to_click(sender):\n",
    "    print(\"Thanks for clicking\")\n",
    "    \n",
    "my_button.on_click(respond_to_click)"
   ]
  },
  {
   "cell_type": "markdown",
   "metadata": {},
   "source": [
    "## Slider"
   ]
  },
  {
   "cell_type": "code",
   "execution_count": null,
   "metadata": {},
   "outputs": [],
   "source": [
    "my_slider = widgets.IntSlider(\n",
    "    value = 7,\n",
    "    min = 0,\n",
    "    max = 10,\n",
    "    step = 1,\n",
    "    description = 'Test:',\n",
    "    disabled = False,\n",
    "    continuous_update = False,\n",
    "    orientation ='horizontal',\n",
    "    readout = True,\n",
    "    readout_format = 'd'\n",
    ")\n",
    "display(my_slider)"
   ]
  },
  {
   "cell_type": "markdown",
   "metadata": {},
   "source": [
    "## Progress bar"
   ]
  },
  {
   "cell_type": "code",
   "execution_count": null,
   "metadata": {},
   "outputs": [],
   "source": [
    "my_progress_bar = widgets.IntProgress(\n",
    "    value=7,\n",
    "    min=0,\n",
    "    max=10,\n",
    "    step=1,\n",
    "    description='Loading:',\n",
    "    bar_style='', # 'success', 'info', 'warning', 'danger' or ''\n",
    "    orientation='horizontal'\n",
    ")\n",
    "display(my_progress_bar)\n",
    "\n",
    "def update_progress_bar(change):\n",
    "    my_progress_bar.value = my_slider.value\n",
    "    \n",
    "my_slider.observe(update_progress_bar, names='value')"
   ]
  },
  {
   "cell_type": "code",
   "execution_count": null,
   "metadata": {},
   "outputs": [],
   "source": [
    "a = widgets.FloatText()\n",
    "b = widgets.FloatSlider()\n",
    "display(a,b)\n",
    "\n",
    "mylink = widgets.jslink((a, 'value'), (b, 'value'))"
   ]
  },
  {
   "cell_type": "markdown",
   "metadata": {},
   "source": [
    "# A short, tragic interactive game featuring HTML, buttons, labels, and *Black Mirror: Bandersnatch*\n",
    "![Bandersnatch](./images/widget-bandersnatch.jpg)"
   ]
  },
  {
   "cell_type": "code",
   "execution_count": null,
   "metadata": {},
   "outputs": [],
   "source": [
    "# Present the situation to the user with HTML\n",
    "# -------------------------------------------\n",
    "from IPython.core.display import HTML\n",
    "\n",
    "situation_html = HTML('''\n",
    "<p>You are in an episode of <em>Black Mirror</em>. Technology is out of\n",
    "control, and through a series of poor choices, bad luck, and developers\n",
    "who really didn’t think about the social consequences of their works,\n",
    "you are now in a pickle.</p>\n",
    "\n",
    "<p>What do you do?</p>\n",
    "''')\n",
    "\n",
    "\n",
    "# Button #1\n",
    "# ---------\n",
    "choice_1_button = widgets.Button(description = \"Bad choice #1\")\n",
    "\n",
    "def choice_1_click(sender):\n",
    "    outcome_label.value = \"You’re screwed.\"\n",
    "    \n",
    "choice_1_button.on_click(choice_1_click)\n",
    "\n",
    "\n",
    "# Button #2\n",
    "# ---------\n",
    "choice_2_button = widgets.Button(description = \"Bad choice #2\")\n",
    "\n",
    "def choice_2_click(sender):\n",
    "    outcome_label.value = \"You’re screwed even worse.\"\n",
    "choice_2_button.on_click(choice_2_click)\n",
    "\n",
    "\n",
    "# Outcome label\n",
    "# -------------\n",
    "outcome_label = widgets.Label(value=\"***\")\n",
    "\n",
    "\n",
    "# Draw the controls\n",
    "# -----------------\n",
    "display(situation_html)\n",
    "display(choice_1_button)\n",
    "display(choice_2_button)\n",
    "display(outcome_label)"
   ]
  },
  {
   "cell_type": "markdown",
   "metadata": {},
   "source": [
    "Happy endings are exceedingly rare in *Black Mirror.*"
   ]
  }
 ],
 "metadata": {
  "kernelspec": {
   "display_name": "Python 3",
   "language": "python",
   "name": "python3"
  },
  "language_info": {
   "codemirror_mode": {
    "name": "ipython",
    "version": 3
   },
   "file_extension": ".py",
   "mimetype": "text/x-python",
   "name": "python",
   "nbconvert_exporter": "python",
   "pygments_lexer": "ipython3",
   "version": "3.6.7"
  }
 },
 "nbformat": 4,
 "nbformat_minor": 2
}
